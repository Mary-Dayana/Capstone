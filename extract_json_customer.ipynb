{
 "cells": [
  {
   "cell_type": "code",
   "execution_count": 48,
   "metadata": {},
   "outputs": [],
   "source": [
    "import findspark\n",
    "findspark.init()\n",
    "\n",
    "from pyspark.sql import SparkSession\n",
    "from pyspark.sql.functions import*\n",
    "\n",
    "from pyspark.sql.types import StructType, StructField, StringType, IntegerType, BooleanType, DoubleType"
   ]
  },
  {
   "cell_type": "code",
   "execution_count": 49,
   "metadata": {},
   "outputs": [],
   "source": [
    "# 2. Initializing SparkSession\n",
    "\n",
    "spark = SparkSession.builder.appName(\"loadcustomer\").getOrCreate()"
   ]
  },
  {
   "attachments": {},
   "cell_type": "markdown",
   "metadata": {},
   "source": [
    "Extracting files "
   ]
  },
  {
   "cell_type": "code",
   "execution_count": 50,
   "metadata": {},
   "outputs": [
    {
     "name": "stdout",
     "output_type": "stream",
     "text": [
      "root\n",
      " |-- APT_NO: string (nullable = true)\n",
      " |-- CREDIT_CARD_NO: string (nullable = true)\n",
      " |-- CUST_CITY: string (nullable = true)\n",
      " |-- CUST_COUNTRY: string (nullable = true)\n",
      " |-- CUST_EMAIL: string (nullable = true)\n",
      " |-- CUST_PHONE: long (nullable = true)\n",
      " |-- CUST_STATE: string (nullable = true)\n",
      " |-- CUST_ZIP: string (nullable = true)\n",
      " |-- FIRST_NAME: string (nullable = true)\n",
      " |-- LAST_NAME: string (nullable = true)\n",
      " |-- LAST_UPDATED: string (nullable = true)\n",
      " |-- MIDDLE_NAME: string (nullable = true)\n",
      " |-- SSN: long (nullable = true)\n",
      " |-- STREET_NAME: string (nullable = true)\n",
      "\n"
     ]
    }
   ],
   "source": [
    "# 3. Read customer-json File with Spark DataFrame API\n",
    "\n",
    "df_customer = spark.read.load(r\"C:\\Users\\Learner_XZHCG217\\Desktop\\TEK-Dataengineering\\Git\\Capstone\\files\\cdw_sapp_custmer.json\",\\\n",
    "     format=\"json\", header = True,inferSchema = True)\n",
    "\n",
    "# df_customer = spark.read.json(r\"C:\\Users\\Learner_XZHCG217\\Desktop\\TEK-Dataengineering\\Git\\Capstone\\files\\cdw_sapp_custmer.json\")\n",
    "\n",
    "df_customer.printSchema()"
   ]
  },
  {
   "cell_type": "code",
   "execution_count": 51,
   "metadata": {},
   "outputs": [
    {
     "name": "stdout",
     "output_type": "stream",
     "text": [
      "+-----------------+------+\n",
      "|      STREET_NAME|APT_NO|\n",
      "+-----------------+------+\n",
      "|Main Street North|   656|\n",
      "|    Redwood Drive|   829|\n",
      "| 12th Street East|   683|\n",
      "|Country Club Road|   253|\n",
      "|   Madison Street|   301|\n",
      "|   Colonial Drive|     3|\n",
      "|   Belmont Avenue|    84|\n",
      "|     Oxford Court|   728|\n",
      "|    Forest Street|    81|\n",
      "|     Court Street|   561|\n",
      "|    Cypress Court|   622|\n",
      "|  8th Street West|   924|\n",
      "|      East Avenue|   611|\n",
      "|         Route 44|   680|\n",
      "|    Warren Street|    71|\n",
      "|     Jones Street|   195|\n",
      "|       New Street|   500|\n",
      "|  Division Street|   989|\n",
      "|     Maple Street|   810|\n",
      "|       Eagle Road|   649|\n",
      "+-----------------+------+\n",
      "only showing top 20 rows\n",
      "\n"
     ]
    }
   ],
   "source": [
    "df_customer['STREET_NAME', 'APT_NO'].show()\n"
   ]
  },
  {
   "cell_type": "code",
   "execution_count": 18,
   "metadata": {},
   "outputs": [],
   "source": [
    "# load credit and branch json files\n",
    "\n",
    "# df_credit = spark.read.json(r\"C:\\Users\\Learner_XZHCG217\\Desktop\\TEK-Dataengineering\\Git\\Capstone\\files\\cdw_sapp_credit.json\")\n",
    "# df_branch = spark.read.json(r\"C:\\Users\\Learner_XZHCG217\\Desktop\\TEK-Dataengineering\\Git\\Capstone\\files\\cdw_sapp_branch.json\")"
   ]
  },
  {
   "cell_type": "code",
   "execution_count": 52,
   "metadata": {},
   "outputs": [
    {
     "name": "stdout",
     "output_type": "stream",
     "text": [
      "root\n",
      " |-- APT_NO: string (nullable = true)\n",
      " |-- CREDIT_CARD_NO: string (nullable = true)\n",
      " |-- CUST_CITY: string (nullable = true)\n",
      " |-- CUST_COUNTRY: string (nullable = true)\n",
      " |-- CUST_EMAIL: string (nullable = true)\n",
      " |-- CUST_PHONE: long (nullable = true)\n",
      " |-- CUST_STATE: string (nullable = true)\n",
      " |-- CUST_ZIP: string (nullable = true)\n",
      " |-- FIRST_NAME: string (nullable = true)\n",
      " |-- LAST_NAME: string (nullable = true)\n",
      " |-- LAST_UPDATED: string (nullable = true)\n",
      " |-- MIDDLE_NAME: string (nullable = true)\n",
      " |-- SSN: long (nullable = true)\n",
      " |-- STREET_NAME: string (nullable = true)\n",
      "\n"
     ]
    }
   ],
   "source": [
    "# show schema for 3 json files\n",
    "\n",
    "df_customer.printSchema()\n",
    "# df_credit.printSchema()\n",
    "# df_branch.printSchema()"
   ]
  },
  {
   "cell_type": "code",
   "execution_count": null,
   "metadata": {},
   "outputs": [],
   "source": [
    "df_customer.show()\n",
    "# df_credit.show()\n",
    "# df_branch.show()"
   ]
  },
  {
   "attachments": {},
   "cell_type": "markdown",
   "metadata": {},
   "source": [
    "Cleaning Customer Data"
   ]
  },
  {
   "cell_type": "code",
   "execution_count": 54,
   "metadata": {},
   "outputs": [
    {
     "name": "stdout",
     "output_type": "stream",
     "text": [
      "+------+----------------+------------+-------------+-------------------+----------+----------+--------+----------+---------+--------------------+-----------+---------+-----------------+\n",
      "|APT_NO|  CREDIT_CARD_NO|   CUST_CITY| CUST_COUNTRY|         CUST_EMAIL|CUST_PHONE|CUST_STATE|CUST_ZIP|FIRST_NAME|LAST_NAME|        LAST_UPDATED|MIDDLE_NAME|      SSN|      STREET_NAME|\n",
      "+------+----------------+------------+-------------+-------------------+----------+----------+--------+----------+---------+--------------------+-----------+---------+-----------------+\n",
      "|   656|4210653310061055|     Natchez|United States|AHooper@example.com|   1237818|        MS|   39120|      Alec|   Hooper|2018-04-21T12:49:...|         wm|123456100|Main Street North|\n",
      "|   829|4210653310102868|Wethersfield|United States|EHolman@example.com|   1238933|        CT|   06109|      Etta|   Holman|2018-04-21T12:49:...|    brendan|123453023|    Redwood Drive|\n",
      "|   683|4210653310116272|     Huntley|United States|WDunham@example.com|   1243018|        IL|   60142|    Wilber|   Dunham|2018-04-21T12:49:...|   ezequiel|123454487| 12th Street East|\n",
      "|   253|4210653310195948|   NewBerlin|United States| EHardy@example.com|   1243215|        WI|   53151|   Eugenio|    Hardy|2018-04-21T12:49:...|      trina|123459758|Country Club Road|\n",
      "|   301|4210653310356919|      ElPaso|United States| WAyers@example.com|   1242074|        TX|   79930|   Wilfred|    Ayers|2018-04-21T12:49:...|        may|123454431|   Madison Street|\n",
      "+------+----------------+------------+-------------+-------------------+----------+----------+--------+----------+---------+--------------------+-----------+---------+-----------------+\n",
      "only showing top 5 rows\n",
      "\n"
     ]
    }
   ],
   "source": [
    "# FIRST NAME--- Convert the first letter in Name into UpperCase\n",
    "df_customer = df_customer.withColumn('FIRST_NAME', initcap(df_customer.FIRST_NAME))\n",
    "\n",
    "# MIDDLE NAME \n",
    "df_customer = df_customer.withColumn('MIDDLE_NAME', lower(df_customer.MIDDLE_NAME))\n",
    "\n",
    "# LAST NAME\n",
    "df_customer = df_customer.withColumn('LAST_NAME', initcap(df_customer.LAST_NAME))\n",
    "\n",
    "df_customer.show(5)\n",
    "\n",
    "# we change few rows in file and verified"
   ]
  },
  {
   "cell_type": "code",
   "execution_count": 55,
   "metadata": {},
   "outputs": [
    {
     "name": "stdout",
     "output_type": "stream",
     "text": [
      "+--------------------+------+-----------------+\n",
      "| FULL_STREET_ADDRESS|APT_NO|      STREET_NAME|\n",
      "+--------------------+------+-----------------+\n",
      "|656, Main Street ...|   656|Main Street North|\n",
      "|  829, Redwood Drive|   829|    Redwood Drive|\n",
      "|683, 12th Street ...|   683| 12th Street East|\n",
      "|253, Country Club...|   253|Country Club Road|\n",
      "| 301, Madison Street|   301|   Madison Street|\n",
      "|   3, Colonial Drive|     3|   Colonial Drive|\n",
      "|  84, Belmont Avenue|    84|   Belmont Avenue|\n",
      "|   728, Oxford Court|   728|     Oxford Court|\n",
      "|   81, Forest Street|    81|    Forest Street|\n",
      "|   561, Court Street|   561|     Court Street|\n",
      "|  622, Cypress Court|   622|    Cypress Court|\n",
      "|924, 8th Street West|   924|  8th Street West|\n",
      "|    611, East Avenue|   611|      East Avenue|\n",
      "|       680, Route 44|   680|         Route 44|\n",
      "|   71, Warren Street|    71|    Warren Street|\n",
      "|   195, Jones Street|   195|     Jones Street|\n",
      "|     500, New Street|   500|       New Street|\n",
      "|989, Division Street|   989|  Division Street|\n",
      "|   810, Maple Street|   810|     Maple Street|\n",
      "|     649, Eagle Road|   649|       Eagle Road|\n",
      "+--------------------+------+-----------------+\n",
      "only showing top 20 rows\n",
      "\n"
     ]
    }
   ],
   "source": [
    "# Concatenate APT_NO and STREET_NAME with \"space and , \" after APT_NO\n",
    "\n",
    "df_customer = df_customer.withColumn('FULL_STREET_ADDRESS', concat(df_customer['APT_NO'], lit(', '), df_customer['STREET_NAME']))\n",
    "df_customer['FULL_STREET_ADDRESS', 'APT_NO', 'STREET_NAME'].show()\n"
   ]
  },
  {
   "cell_type": "code",
   "execution_count": 56,
   "metadata": {},
   "outputs": [
    {
     "name": "stdout",
     "output_type": "stream",
     "text": [
      "+----------------+------------+-------------+-------------------+----------+----------+--------+----------+---------+--------------------+-----------+---------+--------------------+\n",
      "|  CREDIT_CARD_NO|   CUST_CITY| CUST_COUNTRY|         CUST_EMAIL|CUST_PHONE|CUST_STATE|CUST_ZIP|FIRST_NAME|LAST_NAME|        LAST_UPDATED|MIDDLE_NAME|      SSN| FULL_STREET_ADDRESS|\n",
      "+----------------+------------+-------------+-------------------+----------+----------+--------+----------+---------+--------------------+-----------+---------+--------------------+\n",
      "|4210653310061055|     Natchez|United States|AHooper@example.com|   1237818|        MS|   39120|      Alec|   Hooper|2018-04-21T12:49:...|         wm|123456100|656, Main Street ...|\n",
      "|4210653310102868|Wethersfield|United States|EHolman@example.com|   1238933|        CT|   06109|      Etta|   Holman|2018-04-21T12:49:...|    brendan|123453023|  829, Redwood Drive|\n",
      "|4210653310116272|     Huntley|United States|WDunham@example.com|   1243018|        IL|   60142|    Wilber|   Dunham|2018-04-21T12:49:...|   ezequiel|123454487|683, 12th Street ...|\n",
      "|4210653310195948|   NewBerlin|United States| EHardy@example.com|   1243215|        WI|   53151|   Eugenio|    Hardy|2018-04-21T12:49:...|      trina|123459758|253, Country Club...|\n",
      "|4210653310356919|      ElPaso|United States| WAyers@example.com|   1242074|        TX|   79930|   Wilfred|    Ayers|2018-04-21T12:49:...|        may|123454431| 301, Madison Street|\n",
      "+----------------+------------+-------------+-------------------+----------+----------+--------+----------+---------+--------------------+-----------+---------+--------------------+\n",
      "only showing top 5 rows\n",
      "\n"
     ]
    }
   ],
   "source": [
    "# drop  and STREET_NAME from the Data frame\n",
    "\n",
    "df_customer = df_customer.drop('APT_NO', 'STREET_NAME')\n",
    "\n",
    "df_customer.show(5)"
   ]
  },
  {
   "cell_type": "code",
   "execution_count": 57,
   "metadata": {},
   "outputs": [
    {
     "name": "stdout",
     "output_type": "stream",
     "text": [
      "root\n",
      " |-- CREDIT_CARD_NO: string (nullable = true)\n",
      " |-- CUST_CITY: string (nullable = true)\n",
      " |-- CUST_COUNTRY: string (nullable = true)\n",
      " |-- CUST_EMAIL: string (nullable = true)\n",
      " |-- CUST_PHONE: string (nullable = true)\n",
      " |-- CUST_STATE: string (nullable = true)\n",
      " |-- CUST_ZIP: string (nullable = true)\n",
      " |-- FIRST_NAME: string (nullable = true)\n",
      " |-- LAST_NAME: string (nullable = true)\n",
      " |-- LAST_UPDATED: string (nullable = true)\n",
      " |-- MIDDLE_NAME: string (nullable = true)\n",
      " |-- SSN: long (nullable = true)\n",
      " |-- FULL_STREET_ADDRESS: string (nullable = true)\n",
      "\n"
     ]
    }
   ],
   "source": [
    "# change data type of phone number to string \"not VARCHAR(as in schema its string)\"\n",
    "\n",
    "df_customer = df_customer.withColumn('CUST_PHONE', df_customer['CUST_PHONE'].cast('string'))\n",
    "# df_cust = df_cust.select(df_cust['CUST_PHONE'].cast('string')) # with select the data frame has one column\n",
    "df_customer.printSchema()\n",
    "# above code \"CUST_PHONE\" is String\n"
   ]
  },
  {
   "cell_type": "code",
   "execution_count": 58,
   "metadata": {},
   "outputs": [
    {
     "name": "stdout",
     "output_type": "stream",
     "text": [
      "+----------------+------------+-------------+-------------------+-------------+----------+--------+----------+---------+--------------------+-----------+---------+--------------------+\n",
      "|  CREDIT_CARD_NO|   CUST_CITY| CUST_COUNTRY|         CUST_EMAIL|   CUST_PHONE|CUST_STATE|CUST_ZIP|FIRST_NAME|LAST_NAME|        LAST_UPDATED|MIDDLE_NAME|      SSN| FULL_STREET_ADDRESS|\n",
      "+----------------+------------+-------------+-------------------+-------------+----------+--------+----------+---------+--------------------+-----------+---------+--------------------+\n",
      "|4210653310061055|     Natchez|United States|AHooper@example.com|(555)123-7818|        MS|   39120|      Alec|   Hooper|2018-04-21T12:49:...|         wm|123456100|656, Main Street ...|\n",
      "|4210653310102868|Wethersfield|United States|EHolman@example.com|(555)123-8933|        CT|   06109|      Etta|   Holman|2018-04-21T12:49:...|    brendan|123453023|  829, Redwood Drive|\n",
      "|4210653310116272|     Huntley|United States|WDunham@example.com|(555)124-3018|        IL|   60142|    Wilber|   Dunham|2018-04-21T12:49:...|   ezequiel|123454487|683, 12th Street ...|\n",
      "|4210653310195948|   NewBerlin|United States| EHardy@example.com|(555)124-3215|        WI|   53151|   Eugenio|    Hardy|2018-04-21T12:49:...|      trina|123459758|253, Country Club...|\n",
      "|4210653310356919|      ElPaso|United States| WAyers@example.com|(555)124-2074|        TX|   79930|   Wilfred|    Ayers|2018-04-21T12:49:...|        may|123454431| 301, Madison Street|\n",
      "+----------------+------------+-------------+-------------------+-------------+----------+--------+----------+---------+--------------------+-----------+---------+--------------------+\n",
      "only showing top 5 rows\n",
      "\n"
     ]
    }
   ],
   "source": [
    "# change phone number (XXX)XXX-XXXX\n",
    "\n",
    "df_customer = df_customer .withColumn('CUST_PHONE', concat(lit('(555)'), df_customer ['CUST_PHONE'].substr(1,3), lit('-'), df_customer ['CUST_PHONE'].substr(4,4)))\n",
    "#df_customer['CUST_PHONE'].show(5)\n",
    "df_customer.show(5)\n",
    "\n",
    "# if you run the cell twice.... the phone number changes to all 5's"
   ]
  },
  {
   "cell_type": "code",
   "execution_count": 59,
   "metadata": {},
   "outputs": [
    {
     "name": "stdout",
     "output_type": "stream",
     "text": [
      "+-------------+\n",
      "|   CUST_PHONE|\n",
      "+-------------+\n",
      "|(555)123-7818|\n",
      "|(555)123-8933|\n",
      "|(555)124-3018|\n",
      "|(555)124-3215|\n",
      "|(555)124-2074|\n",
      "+-------------+\n",
      "only showing top 5 rows\n",
      "\n"
     ]
    }
   ],
   "source": [
    "df_customer.select(\"CUST_PHONE\").show(5)"
   ]
  }
 ],
 "metadata": {
  "kernelspec": {
   "display_name": "capstone_environment",
   "language": "python",
   "name": "python3"
  },
  "language_info": {
   "codemirror_mode": {
    "name": "ipython",
    "version": 3
   },
   "file_extension": ".py",
   "mimetype": "text/x-python",
   "name": "python",
   "nbconvert_exporter": "python",
   "pygments_lexer": "ipython3",
   "version": "3.10.9"
  },
  "orig_nbformat": 4,
  "vscode": {
   "interpreter": {
    "hash": "d7362ee329c755442e6ea87193ce457cddc1074042b9236f0fcace940202c9aa"
   }
  }
 },
 "nbformat": 4,
 "nbformat_minor": 2
}
