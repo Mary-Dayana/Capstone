{
 "cells": [
  {
   "attachments": {},
   "cell_type": "markdown",
   "metadata": {},
   "source": [
    "2. Functional Requirements - Application Front-End\n",
    "    Req-2.2 Customer Details\n",
    "        1) Used to check the existing account details of a customer.\n"
   ]
  },
  {
   "cell_type": "code",
   "execution_count": 3,
   "metadata": {},
   "outputs": [],
   "source": [
    "import pyspark as py\n",
    "import pandas as pd\n",
    "from pyspark.sql import SparkSession\n",
    "from pyspark.sql.functions import *\n",
    "import pyinputplus as pyip"
   ]
  },
  {
   "cell_type": "code",
   "execution_count": 4,
   "metadata": {},
   "outputs": [],
   "source": [
    "# Initialize Spark Session\n",
    "spark = SparkSession.builder.appName(\"Customer\").getOrCreate()"
   ]
  },
  {
   "cell_type": "code",
   "execution_count": 5,
   "metadata": {},
   "outputs": [],
   "source": [
    "# Fetch data from table to Spark dataframe\n",
    "\n",
    "df_cust_sp = spark.read.format(\"jdbc\") \\\n",
    "    .option(\"url\", \"jdbc:mysql://localhost:3306/creditcard_capstone\") \\\n",
    "    .option(\"dbtable\", \"CDW_SAPP_CUSTOMER\") \\\n",
    "    .option(\"user\", \"root\") \\\n",
    "    .option(\"password\", \"password\") \\\n",
    "    .load()"
   ]
  },
  {
   "cell_type": "code",
   "execution_count": 8,
   "metadata": {},
   "outputs": [
    {
     "name": "stderr",
     "output_type": "stream",
     "text": [
      "c:\\Users\\Learner_XZHCG217\\Desktop\\TEK-Dataengineering\\Git\\Capstone\\capstone_environment\\lib\\site-packages\\pyspark\\sql\\pandas\\conversion.py:248: FutureWarning: Passing unit-less datetime64 dtype to .astype is deprecated and will raise in a future version. Pass 'datetime64[ns]' instead\n",
      "  series = series.astype(t, copy=False)\n"
     ]
    },
    {
     "data": {
      "text/html": [
       "<div>\n",
       "<style scoped>\n",
       "    .dataframe tbody tr th:only-of-type {\n",
       "        vertical-align: middle;\n",
       "    }\n",
       "\n",
       "    .dataframe tbody tr th {\n",
       "        vertical-align: top;\n",
       "    }\n",
       "\n",
       "    .dataframe thead th {\n",
       "        text-align: right;\n",
       "    }\n",
       "</style>\n",
       "<table border=\"1\" class=\"dataframe\">\n",
       "  <thead>\n",
       "    <tr style=\"text-align: right;\">\n",
       "      <th></th>\n",
       "      <th>CREDIT_CARD_NO</th>\n",
       "      <th>CUST_CITY</th>\n",
       "      <th>CUST_COUNTRY</th>\n",
       "      <th>CUST_EMAIL</th>\n",
       "      <th>CUST_PHONE</th>\n",
       "      <th>CUST_STATE</th>\n",
       "      <th>CUST_ZIP</th>\n",
       "      <th>FIRST_NAME</th>\n",
       "      <th>LAST_NAME</th>\n",
       "      <th>LAST_UPDATED</th>\n",
       "      <th>MIDDLE_NAME</th>\n",
       "      <th>SSN</th>\n",
       "      <th>FULL_STREET_ADDRESS</th>\n",
       "    </tr>\n",
       "  </thead>\n",
       "  <tbody>\n",
       "    <tr>\n",
       "      <th>0</th>\n",
       "      <td>4210653310061055</td>\n",
       "      <td>Natchez</td>\n",
       "      <td>United States</td>\n",
       "      <td>AHooper@example.com</td>\n",
       "      <td>(555)123-7818</td>\n",
       "      <td>MS</td>\n",
       "      <td>39120</td>\n",
       "      <td>Alec</td>\n",
       "      <td>Hooper</td>\n",
       "      <td>2018-04-21 12:49:02</td>\n",
       "      <td>wm</td>\n",
       "      <td>123456100</td>\n",
       "      <td>656, Main Street North</td>\n",
       "    </tr>\n",
       "  </tbody>\n",
       "</table>\n",
       "</div>"
      ],
      "text/plain": [
       "     CREDIT_CARD_NO CUST_CITY   CUST_COUNTRY           CUST_EMAIL  \\\n",
       "0  4210653310061055   Natchez  United States  AHooper@example.com   \n",
       "\n",
       "      CUST_PHONE CUST_STATE  CUST_ZIP FIRST_NAME LAST_NAME  \\\n",
       "0  (555)123-7818         MS     39120       Alec    Hooper   \n",
       "\n",
       "         LAST_UPDATED MIDDLE_NAME        SSN     FULL_STREET_ADDRESS  \n",
       "0 2018-04-21 12:49:02          wm  123456100  656, Main Street North  "
      ]
     },
     "execution_count": 8,
     "metadata": {},
     "output_type": "execute_result"
    }
   ],
   "source": [
    "# Convert spark dataframe into Pandas Dataframe\n",
    "\n",
    "df_cust_pd = df_cust_sp.toPandas()\n",
    "df_cust_pd.head(1)"
   ]
  },
  {
   "cell_type": "code",
   "execution_count": null,
   "metadata": {},
   "outputs": [],
   "source": [
    "# check the details of the customer \n",
    "# we are taking input as ssn to check the details of the customer. so keep all ssn in list\n",
    "\n",
    "list_ssn = list(df_cust_pd['SSN'])\n",
    "list_ssn"
   ]
  },
  {
   "cell_type": "code",
   "execution_count": 11,
   "metadata": {},
   "outputs": [
    {
     "data": {
      "text/plain": [
       "'cat'"
      ]
     },
     "execution_count": 11,
     "metadata": {},
     "output_type": "execute_result"
    }
   ],
   "source": [
    "# Enter ssn\n",
    "\n",
    "enter_ssn = input(\"Enter SSN: \")\n",
    "enter_ssn\n",
    "\n",
    "# we are not validating the input\n",
    "#   - its takig the number less than 9 digits\n",
    "#   - its taking string"
   ]
  },
  {
   "cell_type": "code",
   "execution_count": 17,
   "metadata": {},
   "outputs": [
    {
     "name": "stdout",
     "output_type": "stream",
     "text": [
      "Not a valid SSN. \n",
      " Enter 9 digit number: or enter 0 to exit\n"
     ]
    },
    {
     "data": {
      "text/plain": [
       "False"
      ]
     },
     "execution_count": 17,
     "metadata": {},
     "output_type": "execute_result"
    }
   ],
   "source": [
    "# Function to Enter SSN and Validate SSN (123456100)\n",
    "\n",
    "def validate_ssn(enter_ssn):\n",
    "    if enter_ssn in list_ssn:\n",
    "        return True\n",
    "    else:\n",
    "        if enter_ssn != 0:\n",
    "            print(\"Not a valid SSN. \\n Enter 9 digit number: or enter 0 to exit\")\n",
    "        return False\n",
    "# validate_ssn(123456100)    True\n",
    "# validate_ssn(123456)       False\n",
    "# validate_ssn(cast)         False"
   ]
  },
  {
   "cell_type": "code",
   "execution_count": null,
   "metadata": {},
   "outputs": [],
   "source": [
    "list_col = ['FIRST_NAME', 'MIDDLE_NAME', 'LAST_NAME', 'CUST_EMAIL', 'CUST_PHONE', 'FULL_STREET_ADDRESS', 'CUST_CITY', \\\n",
    "                'CUST_STATE', 'CUST_ZIP', 'EXIT']\n",
    "def validate_ssn(var_ssn):\n",
    "    if var_ssn in list_ssn:\n",
    "        return True\n",
    "    else:\n",
    "        if var_ssn != 0:\n",
    "            print(\"Not a valid SSN. Try again or enter 0 to exit\")\n",
    "        return False\n",
    "def show_info(var_ssn):\n",
    "    result = df_cust.where(df_cust['SSN'] == var_ssn)\n",
    "    result['FIRST_NAME', 'MIDDLE_NAME', 'LAST_NAME', 'CUST_EMAIL', 'CUST_PHONE', 'FULL_STREET_ADDRESS', 'CUST_CITY', \\\n",
    "                'CUST_STATE', 'CUST_ZIP', 'CREDIT_CARD_NO'].show()\n",
    "def validate_ans(var_ans):\n",
    "    if var_ans == 'Y' :\n",
    "        return True\n",
    "    else:\n",
    "        if var_ans != 'N':\n",
    "            print(\"Enter Y to edit or N to exit\")\n",
    "        return False\n",
    "def edit_info():\n",
    "    while True:\n",
    "        var_ssn = pyip.inputInt(\"Enter 9-digit SSN : \")\n",
    "        if validate_ssn(var_ssn):\n",
    "            show_info(var_ssn)\n",
    "            break\n",
    "        else:\n",
    "            if var_ssn == 0:\n",
    "                break\n",
    "            continue\n",
    "    while True:\n",
    "        print(list_col)\n",
    "        var_option = pyip.inputMenu(list_col, numbered=True)\n",
    "        print(var_option)\n",
    "        pd_result = result.toPandas()\n",
    "        if var_option == \"FIRST_NAME\":\n",
    "            var_first_name = pyip.inputStr(\"Enter new FIRST NAME : \")\n",
    "            print(var_first_name)\n",
    "            print(result[var_option])\n",
    "            # pd_result[var_option] = pd_result[var_option].replace(result[var_option], var_first_name)\n",
    "            print(pd_result)\n",
    "            pd_result.loc[0,'FIRST_NAME']= var_first_name\n",
    "            print(pd_result)\n",
    "        elif var_option == 'EXIT':\n",
    "            break\n",
    "while True:\n",
    "    var_ans = pyip.inputStr(\"Would you like to update Customer Information? (Y/N) : \")\n",
    "    # var_ans\n",
    "    if validate_ans(var_ans):\n",
    "        edit_info()\n",
    "        break\n",
    "    else:\n",
    "        if var_ans == 'N':\n",
    "            break\n",
    "        continue"
   ]
  }
 ],
 "metadata": {
  "kernelspec": {
   "display_name": "capstone_environment",
   "language": "python",
   "name": "python3"
  },
  "language_info": {
   "codemirror_mode": {
    "name": "ipython",
    "version": 3
   },
   "file_extension": ".py",
   "mimetype": "text/x-python",
   "name": "python",
   "nbconvert_exporter": "python",
   "pygments_lexer": "ipython3",
   "version": "3.10.9"
  },
  "orig_nbformat": 4,
  "vscode": {
   "interpreter": {
    "hash": "d7362ee329c755442e6ea87193ce457cddc1074042b9236f0fcace940202c9aa"
   }
  }
 },
 "nbformat": 4,
 "nbformat_minor": 2
}
