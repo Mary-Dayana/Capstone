{
 "cells": [
  {
   "cell_type": "code",
   "execution_count": null,
   "metadata": {},
   "outputs": [],
   "source": []
  },
  {
   "cell_type": "code",
   "execution_count": null,
   "metadata": {},
   "outputs": [],
   "source": [
    "import pyspark\n",
    "from pyspark.sql import SparkSession\n",
    "from pyspark.sql.functions import *"
   ]
  },
  {
   "cell_type": "code",
   "execution_count": null,
   "metadata": {},
   "outputs": [],
   "source": [
    "# Creating Spark Session\n",
    "sp = SparkSession.builder.appName(\"Customer\").getOrCreate()"
   ]
  },
  {
   "cell_type": "code",
   "execution_count": null,
   "metadata": {},
   "outputs": [],
   "source": [
    "df_cc = sp.read.format(\"jdbc\") \\\n",
    "    .option(\"url\", \"jdbc:mysql://localhost:3306/creditcard_capstone\") \\\n",
    "    .option(\"dbtable\", \"CDW_SAPP_CREDIT_CARD\") \\\n",
    "    .option(\"user\", \"root\") \\\n",
    "    .option(\"password\", \"password\") \\\n",
    "    .load()\n",
    "\n",
    "df_cust = sp.read.format(\"jdbc\") \\\n",
    "    .option(\"url\", \"jdbc:mysql://localhost:3306/creditcard_capstone\") \\\n",
    "    .option(\"dbtable\", \"CDW_SAPP_CUSTOMER\") \\\n",
    "    .option(\"user\", \"root\") \\\n",
    "    .option(\"password\", \"password\") \\\n",
    "    .load()\n",
    "\n",
    "df_br = sp.read.format(\"jdbc\") \\\n",
    "    .option(\"url\", \"jdbc:mysql://localhost:3306/creditcard_capstone\") \\\n",
    "    .option(\"dbtable\", \"CDW_SAPP_BRANCH\") \\\n",
    "    .option(\"user\", \"root\") \\\n",
    "    .option(\"password\", \"password\") \\\n",
    "    .load()"
   ]
  },
  {
   "cell_type": "code",
   "execution_count": null,
   "metadata": {},
   "outputs": [],
   "source": [
    "df_cc.show()"
   ]
  },
  {
   "cell_type": "code",
   "execution_count": null,
   "metadata": {},
   "outputs": [],
   "source": [
    "df_join = df_cc.join(df_cust, df_cc.CUST_SSN == df_cust.SSN, 'inner').select(col('SSN'), col('CUST_ZIP'), col('TIMEID'), \\\n",
    "      col('TRANSACTION_ID'), col('TRANSACTION_VALUE'))"
   ]
  },
  {
   "cell_type": "code",
   "execution_count": null,
   "metadata": {},
   "outputs": [],
   "source": [
    "df_join.show()"
   ]
  },
  {
   "cell_type": "code",
   "execution_count": null,
   "metadata": {},
   "outputs": [],
   "source": [
    "df_join.createOrReplaceTempView('CC_CUST')"
   ]
  },
  {
   "cell_type": "code",
   "execution_count": null,
   "metadata": {},
   "outputs": [],
   "source": [
    "# data = sp.sql('select * from CC_CUST where CUST_ZIP == \"53066\" and substr(TIMEID,1,4) == \"2018\" and substr(TIMEID,5,2)==\"06\"')\n",
    "# data.show(100)"
   ]
  },
  {
   "cell_type": "code",
   "execution_count": null,
   "metadata": {},
   "outputs": [],
   "source": [
    "def trans_value(zip,yr,mm):\n",
    "    print(\"inside the function\", zip, yr, mm)\n",
    "    data = sp.sql('select distinct * from CC_CUST where CUST_ZIP == \"{}\" and substr(TIMEID,1,4) == \"{}\" \\\n",
    "        and substr(TIMEID,5,2) == \"{}\" ORDER BY substr(TIMEID,7,2) DESC'.format(zip,yr,mm))\n",
    "    data.show()\n",
    "\n",
    "\n",
    "zip = str(input(\"Enter 5-digit zipcode: \"))\n",
    "yr = str(input(\"Enter year: \"))\n",
    "mm = str(input(\"Enter month: \"))\n",
    "trans_value(zip,yr,mm)"
   ]
  },
  {
   "attachments": {},
   "cell_type": "markdown",
   "metadata": {},
   "source": [
    "Functional requirements 2.1 (2)"
   ]
  },
  {
   "cell_type": "code",
   "execution_count": null,
   "metadata": {},
   "outputs": [],
   "source": [
    "# df_cc.select('transaction_type','transaction_value').groupby('transaction_type').agg(count('transaction_type'), \\\n",
    "    # sum('transaction_value')).show()"
   ]
  },
  {
   "cell_type": "code",
   "execution_count": null,
   "metadata": {},
   "outputs": [],
   "source": [
    "df_cc.createOrReplaceTempView('cdw_cc')"
   ]
  },
  {
   "cell_type": "code",
   "execution_count": null,
   "metadata": {},
   "outputs": [],
   "source": [
    "data1 = sp.sql('SELECT transaction_type, COUNT(*) as trans_count, \\\n",
    "                round(SUM(transaction_value),2) as trans_val \\\n",
    "                FROM cdw_cc \\\n",
    "                GROUP BY transaction_type')"
   ]
  },
  {
   "cell_type": "code",
   "execution_count": null,
   "metadata": {},
   "outputs": [],
   "source": [
    "data1.show()"
   ]
  },
  {
   "attachments": {},
   "cell_type": "markdown",
   "metadata": {},
   "source": [
    "Functional requirements 2.1 (3)"
   ]
  },
  {
   "cell_type": "code",
   "execution_count": null,
   "metadata": {},
   "outputs": [],
   "source": [
    "data_br = df_cc.join(df_br, df_br.BRANCH_CODE == df_cc.BRANCH_CODE, 'inner').select(df_br['branch_code'].alias('BC1'), \\\n",
    "            col('branch_name'), col('branch_state'), col('transaction_value'))\n",
    "data_br.show()"
   ]
  },
  {
   "cell_type": "code",
   "execution_count": null,
   "metadata": {},
   "outputs": [],
   "source": [
    "data_br.createOrReplaceTempView('data_br_view')"
   ]
  },
  {
   "cell_type": "code",
   "execution_count": null,
   "metadata": {},
   "outputs": [],
   "source": [
    "def trans_by_branch(state):\n",
    "    data1 = sp.sql(\"SELECT bc1, COUNT(bc1), \\\n",
    "                round(SUM(transaction_value),2) \\\n",
    "                FROM data_br_view \\\n",
    "                WHERE BRANCH_STATE == '{}' \\\n",
    "                GROUP BY bc1 \\\n",
    "                ORDER BY bc1\".format(state))\n",
    "    data1.show()\n",
    "\n",
    "state = str(input(\"Enter State : \"))\n",
    "trans_by_branch(state)"
   ]
  }
 ],
 "metadata": {
  "kernelspec": {
   "display_name": "capstone_environment",
   "language": "python",
   "name": "python3"
  },
  "language_info": {
   "codemirror_mode": {
    "name": "ipython",
    "version": 3
   },
   "file_extension": ".py",
   "mimetype": "text/x-python",
   "name": "python",
   "nbconvert_exporter": "python",
   "pygments_lexer": "ipython3",
   "version": "3.10.9"
  },
  "orig_nbformat": 4,
  "vscode": {
   "interpreter": {
    "hash": "d7362ee329c755442e6ea87193ce457cddc1074042b9236f0fcace940202c9aa"
   }
  }
 },
 "nbformat": 4,
 "nbformat_minor": 2
}
