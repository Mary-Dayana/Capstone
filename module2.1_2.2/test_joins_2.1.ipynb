{
 "cells": [
  {
   "cell_type": "code",
   "execution_count": null,
   "metadata": {},
   "outputs": [],
   "source": []
  },
  {
   "cell_type": "code",
   "execution_count": 1,
   "metadata": {},
   "outputs": [],
   "source": [
    "import pyspark\n",
    "from pyspark.sql import SparkSession\n",
    "from pyspark.sql.functions import *"
   ]
  },
  {
   "cell_type": "code",
   "execution_count": 2,
   "metadata": {},
   "outputs": [],
   "source": [
    "# Creating Spark Session\n",
    "sp = SparkSession.builder.appName(\"Customer\").getOrCreate()"
   ]
  },
  {
   "cell_type": "code",
   "execution_count": 3,
   "metadata": {},
   "outputs": [],
   "source": [
    "df_cc = sp.read.format(\"jdbc\") \\\n",
    "    .option(\"url\", \"jdbc:mysql://localhost:3306/creditcard_capstone\") \\\n",
    "    .option(\"dbtable\", \"CDW_SAPP_CREDIT_CARD\") \\\n",
    "    .option(\"user\", \"root\") \\\n",
    "    .option(\"password\", \"password\") \\\n",
    "    .load()\n",
    "\n",
    "df_cust = sp.read.format(\"jdbc\") \\\n",
    "    .option(\"url\", \"jdbc:mysql://localhost:3306/creditcard_capstone\") \\\n",
    "    .option(\"dbtable\", \"CDW_SAPP_CUSTOMER\") \\\n",
    "    .option(\"user\", \"root\") \\\n",
    "    .option(\"password\", \"password\") \\\n",
    "    .load()\n",
    "\n",
    "df_br = sp.read.format(\"jdbc\") \\\n",
    "    .option(\"url\", \"jdbc:mysql://localhost:3306/creditcard_capstone\") \\\n",
    "    .option(\"dbtable\", \"CDW_SAPP_BRANCH\") \\\n",
    "    .option(\"user\", \"root\") \\\n",
    "    .option(\"password\", \"password\") \\\n",
    "    .load()"
   ]
  },
  {
   "cell_type": "code",
   "execution_count": 4,
   "metadata": {},
   "outputs": [
    {
     "name": "stdout",
     "output_type": "stream",
     "text": [
      "+-----------+----------------+---------+--------------+----------------+-----------------+--------+\n",
      "|BRANCH_CODE|      CUST_CC_NO| CUST_SSN|TRANSACTION_ID|TRANSACTION_TYPE|TRANSACTION_VALUE|  TIMEID|\n",
      "+-----------+----------------+---------+--------------+----------------+-----------------+--------+\n",
      "|        156|4210653312478046|123455692|         22562|         Grocery|            91.08|20180813|\n",
      "|        180|4210653342242023|123451310|         45069|           Bills|            77.79|20180315|\n",
      "|        114|4210653349028689|123459988|             1|       Education|             78.9|20180214|\n",
      "|         35|4210653349028689|123459988|             2|   Entertainment|            14.24|20180320|\n",
      "|        107|4210653342242023|123451310|         45070|      Healthcare|            20.47|20180419|\n",
      "|        114|4210653312478046|123455692|         22563|           Bills|             22.2|20180626|\n",
      "|        160|4210653349028689|123459988|             3|         Grocery|             56.7|20180708|\n",
      "|         47|4210653312478046|123455692|         22564|         Grocery|            77.54|20180320|\n",
      "|         58|4210653342242023|123451310|         45071|      Healthcare|             1.61|20180628|\n",
      "|         17|4210653312478046|123455692|         22565|             Gas|            84.05|20180708|\n",
      "|        114|4210653349028689|123459988|             4|   Entertainment|            59.73|20180419|\n",
      "|         85|4210653342242023|123451310|         45072|             Gas|            73.86|20180306|\n",
      "|        123|4210653342242023|123451310|         45073|      Healthcare|             28.4|20180816|\n",
      "|         93|4210653349028689|123459988|             5|             Gas|             3.59|20181010|\n",
      "|        135|4210653312478046|123455692|         22566|   Entertainment|             99.0|20181018|\n",
      "|        124|4210653342242023|123451310|         45074|       Education|            55.39|20181201|\n",
      "|        164|4210653349028689|123459988|             6|       Education|             6.89|20180528|\n",
      "|         30|4210653342242023|123451310|         45075|             Gas|            22.99|20180618|\n",
      "|         36|4210653342242023|123451310|         45076|            Test|            92.83|20180109|\n",
      "|        109|4210653312478046|123455692|         22567|       Education|            59.86|20180909|\n",
      "+-----------+----------------+---------+--------------+----------------+-----------------+--------+\n",
      "only showing top 20 rows\n",
      "\n"
     ]
    }
   ],
   "source": [
    "df_cc.show()"
   ]
  },
  {
   "cell_type": "code",
   "execution_count": 8,
   "metadata": {},
   "outputs": [],
   "source": [
    "df_join = df_cc.join(df_cust, df_cc.CUST_SSN == df_cust.SSN, 'inner').select(col('SSN'), col('CUST_ZIP'), col('TIMEID'), \\\n",
    "      col('TRANSACTION_ID'), col('TRANSACTION_VALUE'))"
   ]
  },
  {
   "cell_type": "code",
   "execution_count": 9,
   "metadata": {},
   "outputs": [
    {
     "name": "stdout",
     "output_type": "stream",
     "text": [
      "+---------+--------+--------+--------------+-----------------+\n",
      "|      SSN|CUST_ZIP|  TIMEID|TRANSACTION_ID|TRANSACTION_VALUE|\n",
      "+---------+--------+--------+--------------+-----------------+\n",
      "|123455659|   10954|20180723|         22772|            97.57|\n",
      "|123455659|   10954|20180625|         22773|            65.32|\n",
      "|123455659|   10954|20181022|         22774|             5.76|\n",
      "|123455659|   10954|20180521|         22775|           100.81|\n",
      "|123455659|   10954|20180726|         22776|            57.93|\n",
      "|123455659|   10954|20180513|         22777|            76.18|\n",
      "|123455659|   10954|20181119|         22778|            87.72|\n",
      "|123455659|   10954|20180228|         22779|            25.73|\n",
      "|123455659|   10954|20181002|         22780|            58.56|\n",
      "|123455659|   10954|20180105|         22781|             75.2|\n",
      "|123455659|   10954|20181207|         22782|            70.19|\n",
      "|123455659|   10954|20180827|         22783|            85.66|\n",
      "|123455659|   10954|20180908|         22784|            84.87|\n",
      "|123455659|   10954|20181122|         22785|            10.91|\n",
      "|123455659|   10954|20180419|         22786|            27.68|\n",
      "|123455659|   10954|20180822|         22787|            95.54|\n",
      "|123455659|   10954|20180704|         22788|             8.94|\n",
      "|123455659|   10954|20180609|         22789|            78.95|\n",
      "|123455659|   10954|20180108|         22790|             7.48|\n",
      "|123455659|   10954|20180210|         22791|              6.8|\n",
      "+---------+--------+--------+--------------+-----------------+\n",
      "only showing top 20 rows\n",
      "\n"
     ]
    }
   ],
   "source": [
    "df_join.show()"
   ]
  },
  {
   "cell_type": "code",
   "execution_count": 10,
   "metadata": {},
   "outputs": [],
   "source": [
    "df_join.createOrReplaceTempView('CC_CUST')"
   ]
  },
  {
   "cell_type": "code",
   "execution_count": null,
   "metadata": {},
   "outputs": [],
   "source": [
    "# data = sp.sql('select * from CC_CUST where CUST_ZIP == \"53066\" and substr(TIMEID,1,4) == \"2018\" and substr(TIMEID,5,2)==\"06\"')\n",
    "# data.show(100)"
   ]
  },
  {
   "cell_type": "code",
   "execution_count": 11,
   "metadata": {},
   "outputs": [
    {
     "name": "stdout",
     "output_type": "stream",
     "text": [
      "inside the function 53066 2018 06\n",
      "+---------+--------+--------+--------------+-----------------+\n",
      "|      SSN|CUST_ZIP|  TIMEID|TRANSACTION_ID|TRANSACTION_VALUE|\n",
      "+---------+--------+--------+--------------+-----------------+\n",
      "|123458614|   53066|20180628|          6691|             19.2|\n",
      "|123457562|   53066|20180628|         12436|            65.84|\n",
      "|123457286|   53066|20180627|         13783|            42.01|\n",
      "|123451357|   53066|20180626|         44896|            13.47|\n",
      "|123458614|   53066|20180625|          6697|             6.66|\n",
      "|123457286|   53066|20180623|         13824|            52.27|\n",
      "|123454357|   53066|20180622|         29654|            82.03|\n",
      "|123457286|   53066|20180622|         13799|            41.65|\n",
      "|123457562|   53066|20180621|         12400|            17.85|\n",
      "|123457562|   53066|20180621|         12387|            21.05|\n",
      "|123454391|   53066|20180620|         29420|             82.4|\n",
      "|123452342|   53066|20180618|         40354|            38.26|\n",
      "|123451357|   53066|20180617|         44868|            26.73|\n",
      "|123454391|   53066|20180616|         29422|            57.43|\n",
      "|123458614|   53066|20180615|          6668|             36.6|\n",
      "|123457286|   53066|20180615|         13803|            15.99|\n",
      "|123458614|   53066|20180614|          6686|            12.99|\n",
      "|123452342|   53066|20180614|         40349|            44.36|\n",
      "|123454357|   53066|20180614|         29652|            11.36|\n",
      "|123456291|   53066|20180614|         19450|            28.71|\n",
      "+---------+--------+--------+--------------+-----------------+\n",
      "only showing top 20 rows\n",
      "\n"
     ]
    }
   ],
   "source": [
    "def trans_value(zip,yr,mm):\n",
    "    print(\"inside the function\", zip, yr, mm)\n",
    "    data = sp.sql('select distinct * from CC_CUST where CUST_ZIP == \"{}\" and substr(TIMEID,1,4) == \"{}\" \\\n",
    "        and substr(TIMEID,5,2) == \"{}\" ORDER BY substr(TIMEID,7,2) DESC'.format(zip,yr,mm))\n",
    "    data.show()\n",
    "\n",
    "\n",
    "zip = str(input(\"Enter 5-digit zipcode: \"))\n",
    "yr = str(input(\"Enter year: \"))\n",
    "mm = str(input(\"Enter month: \"))\n",
    "trans_value(zip,yr,mm)"
   ]
  },
  {
   "attachments": {},
   "cell_type": "markdown",
   "metadata": {},
   "source": [
    "Functional requirements 2.1 (2)"
   ]
  },
  {
   "cell_type": "code",
   "execution_count": null,
   "metadata": {},
   "outputs": [],
   "source": [
    "# df_cc.select('transaction_type','transaction_value').groupby('transaction_type').agg(count('transaction_type'), \\\n",
    "    # sum('transaction_value')).show()"
   ]
  },
  {
   "cell_type": "code",
   "execution_count": 5,
   "metadata": {},
   "outputs": [],
   "source": [
    "df_cc.createOrReplaceTempView('cdw_cc')"
   ]
  },
  {
   "cell_type": "code",
   "execution_count": 6,
   "metadata": {},
   "outputs": [],
   "source": [
    "data1 = sp.sql('SELECT transaction_type, COUNT(*) as trans_count, \\\n",
    "                round(SUM(transaction_value),2) as trans_val \\\n",
    "                FROM cdw_cc \\\n",
    "                GROUP BY transaction_type')"
   ]
  },
  {
   "cell_type": "code",
   "execution_count": 7,
   "metadata": {},
   "outputs": [
    {
     "name": "stdout",
     "output_type": "stream",
     "text": [
      "+----------------+-----------+---------+\n",
      "|transaction_type|trans_count|trans_val|\n",
      "+----------------+-----------+---------+\n",
      "|       Education|       6638|337980.07|\n",
      "|   Entertainment|       6635| 338950.1|\n",
      "|      Healthcare|       6723| 340476.2|\n",
      "|         Grocery|       6549|337051.63|\n",
      "|            Test|       6683|341310.37|\n",
      "|             Gas|       6605|336059.26|\n",
      "|           Bills|       6861|351405.28|\n",
      "+----------------+-----------+---------+\n",
      "\n"
     ]
    }
   ],
   "source": [
    "data1.show()"
   ]
  },
  {
   "attachments": {},
   "cell_type": "markdown",
   "metadata": {},
   "source": [
    "Functional requirements 2.1 (3)"
   ]
  },
  {
   "cell_type": "code",
   "execution_count": null,
   "metadata": {},
   "outputs": [],
   "source": [
    "data_br = df_cc.join(df_br, df_br.BRANCH_CODE == df_cc.BRANCH_CODE, 'inner').select(df_br['branch_code'].alias('BC1'), \\\n",
    "            col('branch_name'), col('branch_state'), col('transaction_value'))\n",
    "data_br.show()"
   ]
  },
  {
   "cell_type": "code",
   "execution_count": null,
   "metadata": {},
   "outputs": [],
   "source": [
    "data_br.createOrReplaceTempView('data_br_view')"
   ]
  },
  {
   "cell_type": "code",
   "execution_count": 12,
   "metadata": {},
   "outputs": [
    {
     "ename": "AnalysisException",
     "evalue": "Table or view not found: data_br_view; line 1 pos 93;\n'Sort ['bc1 ASC NULLS FIRST], true\n+- 'Aggregate ['bc1], ['bc1, unresolvedalias('COUNT('bc1), None), unresolvedalias('round('SUM('transaction_value), 2), None)]\n   +- 'Filter ('BRANCH_STATE = tx)\n      +- 'UnresolvedRelation [data_br_view], [], false\n",
     "output_type": "error",
     "traceback": [
      "\u001b[1;31m---------------------------------------------------------------------------\u001b[0m",
      "\u001b[1;31mAnalysisException\u001b[0m                         Traceback (most recent call last)",
      "Cell \u001b[1;32mIn[12], line 11\u001b[0m\n\u001b[0;32m      8\u001b[0m     data1\u001b[39m.\u001b[39mshow()\n\u001b[0;32m     10\u001b[0m state \u001b[39m=\u001b[39m \u001b[39mstr\u001b[39m(\u001b[39minput\u001b[39m(\u001b[39m\"\u001b[39m\u001b[39mEnter State : \u001b[39m\u001b[39m\"\u001b[39m))\n\u001b[1;32m---> 11\u001b[0m trans_by_branch(state)\n",
      "Cell \u001b[1;32mIn[12], line 2\u001b[0m, in \u001b[0;36mtrans_by_branch\u001b[1;34m(state)\u001b[0m\n\u001b[0;32m      1\u001b[0m \u001b[39mdef\u001b[39;00m \u001b[39mtrans_by_branch\u001b[39m(state):\n\u001b[1;32m----> 2\u001b[0m     data1 \u001b[39m=\u001b[39m sp\u001b[39m.\u001b[39;49msql(\u001b[39m\"\u001b[39;49m\u001b[39mSELECT bc1, COUNT(bc1), \u001b[39;49m\u001b[39m\\\u001b[39;49;00m\n\u001b[0;32m      3\u001b[0m \u001b[39m                round(SUM(transaction_value),2) \u001b[39;49m\u001b[39m\\\u001b[39;49;00m\n\u001b[0;32m      4\u001b[0m \u001b[39m                FROM data_br_view \u001b[39;49m\u001b[39m\\\u001b[39;49;00m\n\u001b[0;32m      5\u001b[0m \u001b[39m                WHERE BRANCH_STATE == \u001b[39;49m\u001b[39m'\u001b[39;49m\u001b[39m{}\u001b[39;49;00m\u001b[39m'\u001b[39;49m\u001b[39m \u001b[39;49m\u001b[39m\\\u001b[39;49;00m\n\u001b[0;32m      6\u001b[0m \u001b[39m                GROUP BY bc1 \u001b[39;49m\u001b[39m\\\u001b[39;49;00m\n\u001b[0;32m      7\u001b[0m \u001b[39m                ORDER BY bc1\u001b[39;49m\u001b[39m\"\u001b[39;49m\u001b[39m.\u001b[39;49mformat(state))\n\u001b[0;32m      8\u001b[0m     data1\u001b[39m.\u001b[39mshow()\n",
      "File \u001b[1;32mc:\\Users\\Learner_XZHCG217\\Desktop\\TEK-Dataengineering\\Git\\Capstone\\capstone_environment\\lib\\site-packages\\pyspark\\sql\\session.py:1034\u001b[0m, in \u001b[0;36mSparkSession.sql\u001b[1;34m(self, sqlQuery, **kwargs)\u001b[0m\n\u001b[0;32m   1032\u001b[0m     sqlQuery \u001b[39m=\u001b[39m formatter\u001b[39m.\u001b[39mformat(sqlQuery, \u001b[39m*\u001b[39m\u001b[39m*\u001b[39mkwargs)\n\u001b[0;32m   1033\u001b[0m \u001b[39mtry\u001b[39;00m:\n\u001b[1;32m-> 1034\u001b[0m     \u001b[39mreturn\u001b[39;00m DataFrame(\u001b[39mself\u001b[39;49m\u001b[39m.\u001b[39;49m_jsparkSession\u001b[39m.\u001b[39;49msql(sqlQuery), \u001b[39mself\u001b[39m)\n\u001b[0;32m   1035\u001b[0m \u001b[39mfinally\u001b[39;00m:\n\u001b[0;32m   1036\u001b[0m     \u001b[39mif\u001b[39;00m \u001b[39mlen\u001b[39m(kwargs) \u001b[39m>\u001b[39m \u001b[39m0\u001b[39m:\n",
      "File \u001b[1;32mc:\\Users\\Learner_XZHCG217\\Desktop\\TEK-Dataengineering\\Git\\Capstone\\capstone_environment\\lib\\site-packages\\py4j\\java_gateway.py:1321\u001b[0m, in \u001b[0;36mJavaMember.__call__\u001b[1;34m(self, *args)\u001b[0m\n\u001b[0;32m   1315\u001b[0m command \u001b[39m=\u001b[39m proto\u001b[39m.\u001b[39mCALL_COMMAND_NAME \u001b[39m+\u001b[39m\\\n\u001b[0;32m   1316\u001b[0m     \u001b[39mself\u001b[39m\u001b[39m.\u001b[39mcommand_header \u001b[39m+\u001b[39m\\\n\u001b[0;32m   1317\u001b[0m     args_command \u001b[39m+\u001b[39m\\\n\u001b[0;32m   1318\u001b[0m     proto\u001b[39m.\u001b[39mEND_COMMAND_PART\n\u001b[0;32m   1320\u001b[0m answer \u001b[39m=\u001b[39m \u001b[39mself\u001b[39m\u001b[39m.\u001b[39mgateway_client\u001b[39m.\u001b[39msend_command(command)\n\u001b[1;32m-> 1321\u001b[0m return_value \u001b[39m=\u001b[39m get_return_value(\n\u001b[0;32m   1322\u001b[0m     answer, \u001b[39mself\u001b[39;49m\u001b[39m.\u001b[39;49mgateway_client, \u001b[39mself\u001b[39;49m\u001b[39m.\u001b[39;49mtarget_id, \u001b[39mself\u001b[39;49m\u001b[39m.\u001b[39;49mname)\n\u001b[0;32m   1324\u001b[0m \u001b[39mfor\u001b[39;00m temp_arg \u001b[39min\u001b[39;00m temp_args:\n\u001b[0;32m   1325\u001b[0m     temp_arg\u001b[39m.\u001b[39m_detach()\n",
      "File \u001b[1;32mc:\\Users\\Learner_XZHCG217\\Desktop\\TEK-Dataengineering\\Git\\Capstone\\capstone_environment\\lib\\site-packages\\pyspark\\sql\\utils.py:196\u001b[0m, in \u001b[0;36mcapture_sql_exception.<locals>.deco\u001b[1;34m(*a, **kw)\u001b[0m\n\u001b[0;32m    192\u001b[0m converted \u001b[39m=\u001b[39m convert_exception(e\u001b[39m.\u001b[39mjava_exception)\n\u001b[0;32m    193\u001b[0m \u001b[39mif\u001b[39;00m \u001b[39mnot\u001b[39;00m \u001b[39misinstance\u001b[39m(converted, UnknownException):\n\u001b[0;32m    194\u001b[0m     \u001b[39m# Hide where the exception came from that shows a non-Pythonic\u001b[39;00m\n\u001b[0;32m    195\u001b[0m     \u001b[39m# JVM exception message.\u001b[39;00m\n\u001b[1;32m--> 196\u001b[0m     \u001b[39mraise\u001b[39;00m converted \u001b[39mfrom\u001b[39;00m \u001b[39mNone\u001b[39m\n\u001b[0;32m    197\u001b[0m \u001b[39melse\u001b[39;00m:\n\u001b[0;32m    198\u001b[0m     \u001b[39mraise\u001b[39;00m\n",
      "\u001b[1;31mAnalysisException\u001b[0m: Table or view not found: data_br_view; line 1 pos 93;\n'Sort ['bc1 ASC NULLS FIRST], true\n+- 'Aggregate ['bc1], ['bc1, unresolvedalias('COUNT('bc1), None), unresolvedalias('round('SUM('transaction_value), 2), None)]\n   +- 'Filter ('BRANCH_STATE = tx)\n      +- 'UnresolvedRelation [data_br_view], [], false\n"
     ]
    }
   ],
   "source": [
    "def trans_by_branch(state):\n",
    "    data1 = sp.sql(\"SELECT bc1, COUNT(bc1), \\\n",
    "                round(SUM(transaction_value),2) \\\n",
    "                FROM data_br_view \\\n",
    "                WHERE BRANCH_STATE == '{}' \\\n",
    "                GROUP BY bc1 \\\n",
    "                ORDER BY bc1\".format(state))\n",
    "    data1.show()\n",
    "\n",
    "state = str(input(\"Enter State : \"))\n",
    "trans_by_branch(state)"
   ]
  }
 ],
 "metadata": {
  "kernelspec": {
   "display_name": "capstone_environment",
   "language": "python",
   "name": "python3"
  },
  "language_info": {
   "codemirror_mode": {
    "name": "ipython",
    "version": 3
   },
   "file_extension": ".py",
   "mimetype": "text/x-python",
   "name": "python",
   "nbconvert_exporter": "python",
   "pygments_lexer": "ipython3",
   "version": "3.10.9"
  },
  "orig_nbformat": 4,
  "vscode": {
   "interpreter": {
    "hash": "d7362ee329c755442e6ea87193ce457cddc1074042b9236f0fcace940202c9aa"
   }
  }
 },
 "nbformat": 4,
 "nbformat_minor": 2
}
