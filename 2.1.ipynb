{
 "cells": [
  {
   "cell_type": "code",
   "execution_count": 24,
   "metadata": {},
   "outputs": [],
   "source": [
    "import pyspark\n",
    "from pyspark.sql import SparkSession\n",
    "from pyspark.sql.functions import *\n",
    "\n",
    "# Creating Spark Session\n",
    "sp = SparkSession.builder.appName(\"Customer\").getOrCreate()"
   ]
  },
  {
   "cell_type": "code",
   "execution_count": 25,
   "metadata": {},
   "outputs": [],
   "source": [
    "df_cc = sp.read.format(\"jdbc\") \\\n",
    "    .option(\"url\", \"jdbc:mysql://localhost:3306/creditcard_capstone\") \\\n",
    "    .option(\"dbtable\", \"CDW_SAPP_CREDIT_CARD\") \\\n",
    "    .option(\"user\", \"root\") \\\n",
    "    .option(\"password\", \"password\") \\\n",
    "    .load()\n",
    "\n",
    "df_cust = sp.read.format(\"jdbc\") \\\n",
    "    .option(\"url\", \"jdbc:mysql://localhost:3306/creditcard_capstone\") \\\n",
    "    .option(\"dbtable\", \"CDW_SAPP_CUSTOMER\") \\\n",
    "    .option(\"user\", \"root\") \\\n",
    "    .option(\"password\", \"password\") \\\n",
    "    .load()\n",
    "\n",
    "    "
   ]
  },
  {
   "cell_type": "code",
   "execution_count": 26,
   "metadata": {},
   "outputs": [
    {
     "name": "stdout",
     "output_type": "stream",
     "text": [
      "+-----------+----------------+---------+--------------+----------------+-----------------+--------+\n",
      "|BRANCH_CODE|      CUST_CC_NO| CUST_SSN|TRANSACTION_ID|TRANSACTION_TYPE|TRANSACTION_VALUE|  TIMEID|\n",
      "+-----------+----------------+---------+--------------+----------------+-----------------+--------+\n",
      "|        156|4210653312478046|123455692|         22562|         Grocery|            91.08|20180813|\n",
      "|        180|4210653342242023|123451310|         45069|           Bills|            77.79|20180315|\n",
      "|        114|4210653349028689|123459988|             1|       Education|             78.9|20180214|\n",
      "|         35|4210653349028689|123459988|             2|   Entertainment|            14.24|20180320|\n",
      "|        107|4210653342242023|123451310|         45070|      Healthcare|            20.47|20180419|\n",
      "|        114|4210653312478046|123455692|         22563|           Bills|             22.2|20180626|\n",
      "|        160|4210653349028689|123459988|             3|         Grocery|             56.7|20180708|\n",
      "|         47|4210653312478046|123455692|         22564|         Grocery|            77.54|20180320|\n",
      "|         58|4210653342242023|123451310|         45071|      Healthcare|             1.61|20180628|\n",
      "|         17|4210653312478046|123455692|         22565|             Gas|            84.05|20180708|\n",
      "|        114|4210653349028689|123459988|             4|   Entertainment|            59.73|20180419|\n",
      "|         85|4210653342242023|123451310|         45072|             Gas|            73.86|20180306|\n",
      "|        123|4210653342242023|123451310|         45073|      Healthcare|             28.4|20180816|\n",
      "|         93|4210653349028689|123459988|             5|             Gas|             3.59|20181010|\n",
      "|        135|4210653312478046|123455692|         22566|   Entertainment|             99.0|20181018|\n",
      "|        124|4210653342242023|123451310|         45074|       Education|            55.39|20181201|\n",
      "|        164|4210653349028689|123459988|             6|       Education|             6.89|20180528|\n",
      "|         30|4210653342242023|123451310|         45075|             Gas|            22.99|20180618|\n",
      "|         36|4210653342242023|123451310|         45076|            Test|            92.83|20180109|\n",
      "|        109|4210653312478046|123455692|         22567|       Education|            59.86|20180909|\n",
      "+-----------+----------------+---------+--------------+----------------+-----------------+--------+\n",
      "only showing top 20 rows\n",
      "\n"
     ]
    }
   ],
   "source": [
    "df_cc.show()"
   ]
  },
  {
   "cell_type": "code",
   "execution_count": 27,
   "metadata": {},
   "outputs": [],
   "source": [
    "df_join = df_cc.join(df_cust, df_cc.CUST_SSN == df_cust.SSN, 'inner').select(col('SSN'), col('CUST_ZIP'), col('TIMEID'), \\\n",
    "      col('TRANSACTION_ID'), col('TRANSACTION_VALUE'))\n"
   ]
  },
  {
   "cell_type": "code",
   "execution_count": 28,
   "metadata": {},
   "outputs": [
    {
     "name": "stdout",
     "output_type": "stream",
     "text": [
      "+---------+--------+--------+--------------+-----------------+\n",
      "|      SSN|CUST_ZIP|  TIMEID|TRANSACTION_ID|TRANSACTION_VALUE|\n",
      "+---------+--------+--------+--------------+-----------------+\n",
      "|123455659|   10954|20180723|         22772|            97.57|\n",
      "|123455659|   10954|20180625|         22773|            65.32|\n",
      "|123455659|   10954|20181022|         22774|             5.76|\n",
      "|123455659|   10954|20180521|         22775|           100.81|\n",
      "|123455659|   10954|20180726|         22776|            57.93|\n",
      "|123455659|   10954|20180513|         22777|            76.18|\n",
      "|123455659|   10954|20181119|         22778|            87.72|\n",
      "|123455659|   10954|20180228|         22779|            25.73|\n",
      "|123455659|   10954|20181002|         22780|            58.56|\n",
      "|123455659|   10954|20180105|         22781|             75.2|\n",
      "|123455659|   10954|20181207|         22782|            70.19|\n",
      "|123455659|   10954|20180827|         22783|            85.66|\n",
      "|123455659|   10954|20180908|         22784|            84.87|\n",
      "|123455659|   10954|20181122|         22785|            10.91|\n",
      "|123455659|   10954|20180419|         22786|            27.68|\n",
      "|123455659|   10954|20180822|         22787|            95.54|\n",
      "|123455659|   10954|20180704|         22788|             8.94|\n",
      "|123455659|   10954|20180609|         22789|            78.95|\n",
      "|123455659|   10954|20180108|         22790|             7.48|\n",
      "|123455659|   10954|20180210|         22791|              6.8|\n",
      "+---------+--------+--------+--------------+-----------------+\n",
      "only showing top 20 rows\n",
      "\n"
     ]
    }
   ],
   "source": [
    "df_join.show()"
   ]
  },
  {
   "cell_type": "code",
   "execution_count": 29,
   "metadata": {},
   "outputs": [],
   "source": [
    "df_join.createOrReplaceTempView('CC_CUST')"
   ]
  },
  {
   "cell_type": "code",
   "execution_count": 15,
   "metadata": {},
   "outputs": [
    {
     "name": "stdout",
     "output_type": "stream",
     "text": [
      "+---------+-----------------+--------+--------+\n",
      "|      SSN|TRANSACTION_VALUE|  TIMEID|CUST_ZIP|\n",
      "+---------+-----------------+--------+--------+\n",
      "|123451357|            18.13|20180606|   53066|\n",
      "|123451357|            13.92|20180506|   53066|\n",
      "|123451357|            35.08|20180706|   53066|\n",
      "|123451357|            65.42|20181106|   53066|\n",
      "|123451357|            18.13|20180606|   53066|\n",
      "|123451357|            13.92|20180506|   53066|\n",
      "|123451357|            35.08|20180706|   53066|\n",
      "|123451357|            65.42|20181106|   53066|\n",
      "|123454391|            57.18|20180306|   53066|\n",
      "|123454391|             3.71|20180706|   53066|\n",
      "|123454391|             23.4|20180306|   53066|\n",
      "|123454391|            64.11|20180306|   53066|\n",
      "|123454391|            96.96|20180806|   53066|\n",
      "|123454391|            57.18|20180306|   53066|\n",
      "|123454391|             3.71|20180706|   53066|\n",
      "|123454391|             23.4|20180306|   53066|\n",
      "|123454391|            64.11|20180306|   53066|\n",
      "|123454391|            96.96|20180806|   53066|\n",
      "|123457457|            84.59|20181206|   53066|\n",
      "|123457457|            55.06|20180106|   53066|\n",
      "|123457457|            59.12|20180206|   53066|\n",
      "|123457457|            84.59|20181206|   53066|\n",
      "|123457457|            55.06|20180106|   53066|\n",
      "|123457457|            59.12|20180206|   53066|\n",
      "|123458614|            47.94|20181106|   53066|\n",
      "|123458614|            49.44|20180606|   53066|\n",
      "|123458614|             5.33|20180106|   53066|\n",
      "|123458614|             58.3|20181106|   53066|\n",
      "|123458614|             6.42|20180506|   53066|\n",
      "|123458614|            93.95|20180806|   53066|\n",
      "|123458614|            47.94|20181106|   53066|\n",
      "|123458614|            49.44|20180606|   53066|\n",
      "|123458614|             5.33|20180106|   53066|\n",
      "|123458614|             58.3|20181106|   53066|\n",
      "|123458614|             6.42|20180506|   53066|\n",
      "|123458614|            93.95|20180806|   53066|\n",
      "|123457286|            78.48|20180706|   53066|\n",
      "|123457286|            24.36|20180306|   53066|\n",
      "|123457286|            78.48|20180706|   53066|\n",
      "|123457286|            24.36|20180306|   53066|\n",
      "|123457562|            70.67|20180106|   53066|\n",
      "|123457562|            70.67|20180106|   53066|\n",
      "|123456291|             86.4|20180106|   53066|\n",
      "|123456291|             86.4|20180106|   53066|\n",
      "+---------+-----------------+--------+--------+\n",
      "\n"
     ]
    }
   ],
   "source": [
    "data = sp.sql('select * from CC_CUST where CUST_ZIP == \"53066\" and substr(TIMEID,1,4) == \"2018\" and substr(TIMEID,5,2)==\"06\"')\n",
    "data.show(100)"
   ]
  },
  {
   "attachments": {},
   "cell_type": "markdown",
   "metadata": {},
   "source": [
    "2. Functional Requirements - Application Front-End\n",
    " 2.1 Transaction Details Module"
   ]
  },
  {
   "cell_type": "code",
   "execution_count": 30,
   "metadata": {},
   "outputs": [
    {
     "name": "stdout",
     "output_type": "stream",
     "text": [
      "inside the function 53066 2018 06\n",
      "+---------+--------+--------+--------------+-----------------+\n",
      "|      SSN|CUST_ZIP|  TIMEID|TRANSACTION_ID|TRANSACTION_VALUE|\n",
      "+---------+--------+--------+--------------+-----------------+\n",
      "|123458614|   53066|20180628|          6691|             19.2|\n",
      "|123457562|   53066|20180628|         12436|            65.84|\n",
      "|123457286|   53066|20180627|         13783|            42.01|\n",
      "|123451357|   53066|20180626|         44896|            13.47|\n",
      "|123458614|   53066|20180625|          6697|             6.66|\n",
      "|123457286|   53066|20180623|         13824|            52.27|\n",
      "|123454357|   53066|20180622|         29654|            82.03|\n",
      "|123457286|   53066|20180622|         13799|            41.65|\n",
      "|123457562|   53066|20180621|         12400|            17.85|\n",
      "|123457562|   53066|20180621|         12387|            21.05|\n",
      "|123454391|   53066|20180620|         29420|             82.4|\n",
      "|123452342|   53066|20180618|         40354|            38.26|\n",
      "|123451357|   53066|20180617|         44868|            26.73|\n",
      "|123454391|   53066|20180616|         29422|            57.43|\n",
      "|123458614|   53066|20180615|          6668|             36.6|\n",
      "|123457286|   53066|20180615|         13803|            15.99|\n",
      "|123458614|   53066|20180614|          6686|            12.99|\n",
      "|123452342|   53066|20180614|         40349|            44.36|\n",
      "|123454357|   53066|20180614|         29652|            11.36|\n",
      "|123456291|   53066|20180614|         19450|            28.71|\n",
      "+---------+--------+--------+--------------+-----------------+\n",
      "only showing top 20 rows\n",
      "\n"
     ]
    }
   ],
   "source": [
    "# 1. Used to display the transactions made by customers living in a given zip code for a given month and year. \n",
    "# Order by day in descending order.\n",
    "\n",
    "def trans_value(zip,yr,mm):\n",
    "    print(\"inside the function\", zip, yr, mm)\n",
    "    data = sp.sql('select distinct * from CC_CUST where CUST_ZIP == \"{}\" and substr(TIMEID,1,4) == \"{}\" \\\n",
    "        and substr(TIMEID,5,2) == \"{}\" ORDER BY substr(TIMEID,7,2) DESC'.format(zip,yr,mm))\n",
    "    data.show()\n",
    "\n",
    "\n",
    "zip = str(input(\"enter zipcode: \"))\n",
    "yr = str(input(\"enter year: \"))\n",
    "mm = str(input(\"enter month: \"))\n",
    "trans_value(zip,yr,mm)\n"
   ]
  },
  {
   "cell_type": "code",
   "execution_count": null,
   "metadata": {},
   "outputs": [],
   "source": [
    "# 2. Used to display the number and total values of transactions for a given type.\n",
    "\n"
   ]
  },
  {
   "cell_type": "code",
   "execution_count": null,
   "metadata": {},
   "outputs": [],
   "source": [
    "data_br = df_cc.join(df_br, df_br.BRANCH_CODE == df_cc.BRANCH_CODE, 'inner').select(col('df_cc.branch_code'), \\\n",
    "            col('df_br.branch_name'), col('df_cc.transaction_value'))\n",
    "data_br.show()\n"
   ]
  },
  {
   "cell_type": "markdown",
   "metadata": {},
   "source": []
  },
  {
   "cell_type": "markdown",
   "metadata": {},
   "source": []
  },
  {
   "cell_type": "markdown",
   "metadata": {},
   "source": []
  },
  {
   "cell_type": "code",
   "execution_count": 2,
   "metadata": {},
   "outputs": [],
   "source": [
    "import pymysql\n",
    "import pandas as pd\n",
    "import matplotlib.pyplot as plt\n",
    "import pandas.io.sql as psql\n",
    "import seaborn as sns"
   ]
  },
  {
   "cell_type": "code",
   "execution_count": 15,
   "metadata": {},
   "outputs": [],
   "source": [
    "# connect to Database\n",
    "\n",
    "connection = pymysql.connect(\n",
    "    host='localhost',\n",
    "    user='root',\n",
    "    password='password',\n",
    "    database='creditcard_capstone'\n",
    ")"
   ]
  },
  {
   "cell_type": "code",
   "execution_count": 20,
   "metadata": {},
   "outputs": [
    {
     "name": "stderr",
     "output_type": "stream",
     "text": [
      "C:\\Users\\Learner_XZHCG217\\AppData\\Local\\Temp\\ipykernel_15276\\770319098.py:5: UserWarning: pandas only supports SQLAlchemy connectable (engine/connection) or database string URI or sqlite3 DBAPI2 connection. Other DBAPI2 objects are not tested. Please consider using SQLAlchemy.\n",
      "  df_loan = psql.read_sql(sql, con=connection)\n"
     ]
    },
    {
     "data": {
      "text/plain": [
       "(1022, 10)"
      ]
     },
     "execution_count": 20,
     "metadata": {},
     "output_type": "execute_result"
    }
   ],
   "source": [
    "# fetch data from table to dataframe\n",
    "\n",
    "cursor = connection.cursor()\n",
    "sql = \"SELECT * FROM CDW_SAPP_loan_application\"\n",
    "cursor.execute(sql)\n",
    "result = cursor.fetchall()\n",
    "df_loan = psql.read_sql(sql, con=connection)\n",
    "pd.set_option(\"display.max_columns\", None)\n",
    "\n",
    "# print(df_loan .head())\n",
    "df_loan.shape"
   ]
  },
  {
   "cell_type": "code",
   "execution_count": 22,
   "metadata": {},
   "outputs": [
    {
     "data": {
      "text/plain": [
       "Self_Employed  Application_Status\n",
       "No             N                     280\n",
       "               Y                     602\n",
       "Yes            N                      48\n",
       "               Y                      92\n",
       "Name: Application_ID, dtype: int64"
      ]
     },
     "execution_count": 22,
     "metadata": {},
     "output_type": "execute_result"
    }
   ],
   "source": [
    "# 5.1 Find and plot the percentage of applications approved for self-employed applicants.\n",
    "\n",
    "df_loan_plot = df_loan.groupby(['Self_Employed','Application_Status'])['Application_ID'].count()\n",
    "df_loan_plot.head()\n",
    "\n",
    "# df_loan_plot = df_loan_plot.reset_index()\n",
    "# total_applications = len(data_frame)\n",
    "# #data_api = data_api[(data_api['Application_Status'] == 'Y') & (data_api['Self_Employed'] == 'Yes' ) ]\n",
    "# data_api['Count_Percent'] = data_api['Application_ID']/total_applications * 100\n",
    "# data_api\n",
    "# sns.set(rc={\"figure.figsize\":(6,5)})\n",
    "# sns.set_theme(style=\"whitegrid\", palette=\"pastel\")\n",
    "# sns.barplot(x ='Self_Employed',\n",
    "#             y = 'Count_Percent',\n",
    "#             #hue='Application_Status',\n",
    "#             hue='Count_Percent',\n",
    "#             data = data_api).set(title =\"Percentage of applications approved for self-employed applicants.\" )"
   ]
  },
  {
   "cell_type": "code",
   "execution_count": null,
   "metadata": {},
   "outputs": [],
   "source": [
    "# 5.2 Find the percentage of rejection for married male applicants.\n",
    "\n"
   ]
  }
 ],
 "metadata": {
  "kernelspec": {
   "display_name": "capstone_environment",
   "language": "python",
   "name": "python3"
  },
  "language_info": {
   "codemirror_mode": {
    "name": "ipython",
    "version": 3
   },
   "file_extension": ".py",
   "mimetype": "text/x-python",
   "name": "python",
   "nbconvert_exporter": "python",
   "pygments_lexer": "ipython3",
   "version": "3.10.9"
  },
  "orig_nbformat": 4,
  "vscode": {
   "interpreter": {
    "hash": "d7362ee329c755442e6ea87193ce457cddc1074042b9236f0fcace940202c9aa"
   }
  }
 },
 "nbformat": 4,
 "nbformat_minor": 2
}
