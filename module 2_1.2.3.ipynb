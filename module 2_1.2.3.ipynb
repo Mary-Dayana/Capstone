{
 "cells": [
  {
   "cell_type": "code",
   "execution_count": 17,
   "metadata": {},
   "outputs": [
    {
     "ename": "ImportError",
     "evalue": "Unable to import required dependencies:\nnumpy: cannot import name randbits",
     "output_type": "error",
     "traceback": [
      "\u001b[1;31m---------------------------------------------------------------------------\u001b[0m",
      "\u001b[1;31mImportError\u001b[0m                               Traceback (most recent call last)",
      "Cell \u001b[1;32mIn[17], line 6\u001b[0m\n\u001b[0;32m      4\u001b[0m findspark\u001b[39m.\u001b[39minit()\n\u001b[0;32m      5\u001b[0m \u001b[39mimport\u001b[39;00m \u001b[39mpymysql\u001b[39;00m\n\u001b[1;32m----> 6\u001b[0m \u001b[39mimport\u001b[39;00m \u001b[39mpandas\u001b[39;00m\u001b[39m.\u001b[39;00m\u001b[39mio\u001b[39;00m\u001b[39m.\u001b[39;00m\u001b[39msql\u001b[39;00m \u001b[39mas\u001b[39;00m \u001b[39mpsql\u001b[39;00m\n\u001b[0;32m      7\u001b[0m \u001b[39mimport\u001b[39;00m \u001b[39mpandas\u001b[39;00m \u001b[39mas\u001b[39;00m \u001b[39mpd\u001b[39;00m\n\u001b[0;32m      8\u001b[0m \u001b[39mfrom\u001b[39;00m \u001b[39mpyspark\u001b[39;00m\u001b[39m.\u001b[39;00m\u001b[39msql\u001b[39;00m \u001b[39mimport\u001b[39;00m SparkSession\n",
      "File \u001b[1;32mc:\\Users\\Learner_XZHCG217\\Desktop\\TEK-Dataengineering\\Git\\Capstone\\capstone_environment\\lib\\site-packages\\pandas\\__init__.py:16\u001b[0m\n\u001b[0;32m     13\u001b[0m         _missing_dependencies\u001b[39m.\u001b[39mappend(\u001b[39mf\u001b[39m\u001b[39m\"\u001b[39m\u001b[39m{\u001b[39;00m_dependency\u001b[39m}\u001b[39;00m\u001b[39m: \u001b[39m\u001b[39m{\u001b[39;00m_e\u001b[39m}\u001b[39;00m\u001b[39m\"\u001b[39m)\n\u001b[0;32m     15\u001b[0m \u001b[39mif\u001b[39;00m _missing_dependencies:\n\u001b[1;32m---> 16\u001b[0m     \u001b[39mraise\u001b[39;00m \u001b[39mImportError\u001b[39;00m(\n\u001b[0;32m     17\u001b[0m         \u001b[39m\"\u001b[39m\u001b[39mUnable to import required dependencies:\u001b[39m\u001b[39m\\n\u001b[39;00m\u001b[39m\"\u001b[39m \u001b[39m+\u001b[39m \u001b[39m\"\u001b[39m\u001b[39m\\n\u001b[39;00m\u001b[39m\"\u001b[39m\u001b[39m.\u001b[39mjoin(_missing_dependencies)\n\u001b[0;32m     18\u001b[0m     )\n\u001b[0;32m     19\u001b[0m \u001b[39mdel\u001b[39;00m _hard_dependencies, _dependency, _missing_dependencies\n\u001b[0;32m     21\u001b[0m \u001b[39m# numpy compat\u001b[39;00m\n",
      "\u001b[1;31mImportError\u001b[0m: Unable to import required dependencies:\nnumpy: cannot import name randbits"
     ]
    }
   ],
   "source": [
    "from datetime import datetime\n",
    "\n",
    "import findspark\n",
    "findspark.init()\n",
    "import pymysql\n",
    "import pandas.io.sql as psql\n",
    "import pandas as pd\n",
    "from pyspark.sql import SparkSession\n",
    "import pyinputplus as pyip"
   ]
  },
  {
   "cell_type": "code",
   "execution_count": 25,
   "metadata": {},
   "outputs": [],
   "source": [
    "from pyspark.sql import SparkSession\n",
    "import findspark\n",
    "findspark.init()\n"
   ]
  },
  {
   "cell_type": "code",
   "execution_count": 19,
   "metadata": {},
   "outputs": [],
   "source": [
    "spark = SparkSession.builder.master(\"local[1]\").appName('Credit_card.com').getOrCreate()"
   ]
  },
  {
   "cell_type": "code",
   "execution_count": 14,
   "metadata": {},
   "outputs": [],
   "source": [
    "connection = pymysql.connect(\n",
    "    host='localhost',\n",
    "    user=\"root\",\n",
    "    password=\"password\",\n",
    "    database='creditcard_capstone'\n",
    ")\n",
    "cursor = connection.cursor()"
   ]
  },
  {
   "cell_type": "code",
   "execution_count": null,
   "metadata": {},
   "outputs": [],
   "source": [
    "def transaction_menu_1_1(zipcode=21042, mm=11, yy=2018):\n",
    "    sql = \"SELECT c.CUST_ZIP,c.SSN,cc.CUST_SSN,cc.TRANSACTION_VALUE,cc.TRANSACTION_TYPE,cc.TIMEID FROM \" \\\n",
    "          \"cdw_sapp_customer c  JOIN cdw_sapp_credit_card cc ON c.SSN=cc.CUST_SSN\"\n",
    "    # cursor.execute(sql)\n",
    "    # result_set = cursor.fetchall()\n",
    "    data_frame = psql.read_sql(sql, con=connection)\n",
    "    pd.set_option(\"display.max_columns\", None)\n",
    "    data_frame[\"TIMEID\"] = pd.to_datetime(data_frame[\"TIMEID\"], format='%Y%m%d')\n",
    "    customer_transaction = data_frame[(data_frame.CUST_ZIP == zipcode) &\n",
    "                                      (data_frame.TIMEID.dt.month == mm) &\n",
    "                                      (data_frame.TIMEID.dt.year == yy)]\n",
    "    daily_values = customer_transaction.groupby(customer_transaction.TIMEID.dt.day)[\"TRANSACTION_VALUE\"].sum()\n",
    "    result = pd.DataFrame({\"Day\": daily_values.index, \"Transaction Value\": daily_values.values})\n",
    "    result = result.sort_values(\"Day\", ascending=False)\n",
    "print(result)"
   ]
  },
  {
   "cell_type": "code",
   "execution_count": null,
   "metadata": {},
   "outputs": [],
   "source": [
    "def transaction_mod2(transaction_type='Bills'):\n",
    "    sql = \"SELECT c.CUST_ZIP,c.SSN,cc.CUST_SSN,cc.TRANSACTION_VALUE,cc.TRANSACTION_TYPE,cc.TIMEID \\\n",
    "           FROM cdw_sapp_customer c  JOIN cdw_sapp_credit_card cc ON c.SSN=cc.CUST_SSN \"\n",
    "    # cursor.execute(sql)\n",
    "    data_frame = psql.read_sql(sql, con=connection)\n",
    "    transaction_type = data_frame[\n",
    "        (data_frame['TRANSACTION_TYPE'].str.lower() == transaction_type.lower()) & (data_frame['TRANSACTION_VALUE'])]\n",
    "    transaction_df = transaction_type.groupby('TRANSACTION_TYPE').agg(count=('TRANSACTION_TYPE', 'count'),\n",
    "                                                                      value=('TRANSACTION_VALUE', 'sum'))\n",
    "    transaction_df['value'] = round(transaction_df['value'], 2)\n",
    "    print(transaction_df)\n"
   ]
  },
  {
   "cell_type": "code",
   "execution_count": null,
   "metadata": {},
   "outputs": [],
   "source": [
    "def transaction_mod3(branch_state='PA'):\n",
    "    sql = \"SELECT bc.BRANCH_CODE,bc.BRANCH_STATE,cc.TRANSACTION_VALUE,cc.TRANSACTION_TYPE,cc.BRANCH_CODE \\\n",
    "               FROM cdw_sapp_branch bc JOIN cdw_sapp_credit_card cc ON bc.BRANCH_CODE=cc.BRANCH_CODE\"\n",
    "    data_frame = psql.read_sql(sql, con=connection)\n",
    "    branch_transaction = data_frame[(data_frame['BRANCH_STATE'] == branch_state) & (data_frame['TRANSACTION_VALUE'])]\n",
    "    trans_by_branch_state = branch_transaction.groupby(['BRANCH_STATE']).agg(\n",
    "        total_transactions=('TRANSACTION_VALUE', 'sum'))\n",
    "    print(trans_by_branch_state)\n"
   ]
  }
 ],
 "metadata": {
  "kernelspec": {
   "display_name": "capstone_environment",
   "language": "python",
   "name": "python3"
  },
  "language_info": {
   "codemirror_mode": {
    "name": "ipython",
    "version": 3
   },
   "file_extension": ".py",
   "mimetype": "text/x-python",
   "name": "python",
   "nbconvert_exporter": "python",
   "pygments_lexer": "ipython3",
   "version": "3.10.9"
  },
  "orig_nbformat": 4,
  "vscode": {
   "interpreter": {
    "hash": "d7362ee329c755442e6ea87193ce457cddc1074042b9236f0fcace940202c9aa"
   }
  }
 },
 "nbformat": 4,
 "nbformat_minor": 2
}
